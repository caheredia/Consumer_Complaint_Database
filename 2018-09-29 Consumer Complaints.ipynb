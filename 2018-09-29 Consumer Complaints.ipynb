{
 "cells": [
  {
   "cell_type": "code",
   "execution_count": 1,
   "metadata": {},
   "outputs": [],
   "source": [
    "import matplotlib.pyplot as plt\n",
    "import seaborn as sns\n",
    "%matplotlib inline\n",
    "from jupyterworkflow.data import get_url_data\n",
    "import pandas as pd\n",
    "from sklearn import preprocessing \n",
    "\n",
    "import numpy as np"
   ]
  },
  {
   "cell_type": "markdown",
   "metadata": {},
   "source": [
    "# Load data"
   ]
  },
  {
   "cell_type": "code",
   "execution_count": 2,
   "metadata": {},
   "outputs": [
    {
     "name": "stdout",
     "output_type": "stream",
     "text": [
      "...loading csv\n",
      "CPU times: user 15.8 s, sys: 972 ms, total: 16.8 s\n",
      "Wall time: 17.2 s\n"
     ]
    }
   ],
   "source": [
    "%%time\n",
    "data = get_url_data()"
   ]
  },
  {
   "cell_type": "code",
   "execution_count": 3,
   "metadata": {},
   "outputs": [
    {
     "data": {
      "text/html": [
       "<div>\n",
       "<style scoped>\n",
       "    .dataframe tbody tr th:only-of-type {\n",
       "        vertical-align: middle;\n",
       "    }\n",
       "\n",
       "    .dataframe tbody tr th {\n",
       "        vertical-align: top;\n",
       "    }\n",
       "\n",
       "    .dataframe thead th {\n",
       "        text-align: right;\n",
       "    }\n",
       "</style>\n",
       "<table border=\"1\" class=\"dataframe\">\n",
       "  <thead>\n",
       "    <tr style=\"text-align: right;\">\n",
       "      <th></th>\n",
       "      <th>Product</th>\n",
       "      <th>Sub-product</th>\n",
       "      <th>Issue</th>\n",
       "      <th>Sub-issue</th>\n",
       "      <th>Consumer complaint narrative</th>\n",
       "      <th>Company public response</th>\n",
       "      <th>Company</th>\n",
       "      <th>State</th>\n",
       "      <th>ZIP code</th>\n",
       "      <th>Tags</th>\n",
       "      <th>Consumer consent provided?</th>\n",
       "      <th>Submitted via</th>\n",
       "      <th>Date sent to company</th>\n",
       "      <th>Company response to consumer</th>\n",
       "      <th>Timely response?</th>\n",
       "      <th>Consumer disputed?</th>\n",
       "      <th>Complaint ID</th>\n",
       "    </tr>\n",
       "    <tr>\n",
       "      <th>Date received</th>\n",
       "      <th></th>\n",
       "      <th></th>\n",
       "      <th></th>\n",
       "      <th></th>\n",
       "      <th></th>\n",
       "      <th></th>\n",
       "      <th></th>\n",
       "      <th></th>\n",
       "      <th></th>\n",
       "      <th></th>\n",
       "      <th></th>\n",
       "      <th></th>\n",
       "      <th></th>\n",
       "      <th></th>\n",
       "      <th></th>\n",
       "      <th></th>\n",
       "      <th></th>\n",
       "    </tr>\n",
       "  </thead>\n",
       "  <tbody>\n",
       "    <tr>\n",
       "      <th>2014-03-12</th>\n",
       "      <td>Mortgage</td>\n",
       "      <td>Other mortgage</td>\n",
       "      <td>Loan modification,collection,foreclosure</td>\n",
       "      <td>NaN</td>\n",
       "      <td>NaN</td>\n",
       "      <td>NaN</td>\n",
       "      <td>M&amp;T BANK CORPORATION</td>\n",
       "      <td>MI</td>\n",
       "      <td>48382</td>\n",
       "      <td>NaN</td>\n",
       "      <td>NaN</td>\n",
       "      <td>Referral</td>\n",
       "      <td>03/17/2014</td>\n",
       "      <td>Closed with explanation</td>\n",
       "      <td>Yes</td>\n",
       "      <td>No</td>\n",
       "      <td>759217</td>\n",
       "    </tr>\n",
       "    <tr>\n",
       "      <th>2017-01-19</th>\n",
       "      <td>Student loan</td>\n",
       "      <td>Federal student loan servicing</td>\n",
       "      <td>Dealing with my lender or servicer</td>\n",
       "      <td>Received bad information about my loan</td>\n",
       "      <td>When my loan was switched over to Navient i wa...</td>\n",
       "      <td>NaN</td>\n",
       "      <td>Navient Solutions, LLC.</td>\n",
       "      <td>LA</td>\n",
       "      <td>NaN</td>\n",
       "      <td>NaN</td>\n",
       "      <td>Consent provided</td>\n",
       "      <td>Web</td>\n",
       "      <td>01/19/2017</td>\n",
       "      <td>Closed with explanation</td>\n",
       "      <td>Yes</td>\n",
       "      <td>No</td>\n",
       "      <td>2296496</td>\n",
       "    </tr>\n",
       "    <tr>\n",
       "      <th>2018-04-06</th>\n",
       "      <td>Credit card or prepaid card</td>\n",
       "      <td>General-purpose credit card or charge card</td>\n",
       "      <td>Other features, terms, or problems</td>\n",
       "      <td>Other problem</td>\n",
       "      <td>I tried to sign up for a spending monitoring p...</td>\n",
       "      <td>NaN</td>\n",
       "      <td>CAPITAL ONE FINANCIAL CORPORATION</td>\n",
       "      <td>VA</td>\n",
       "      <td>NaN</td>\n",
       "      <td>Older American</td>\n",
       "      <td>Consent provided</td>\n",
       "      <td>Web</td>\n",
       "      <td>04/06/2018</td>\n",
       "      <td>Closed with explanation</td>\n",
       "      <td>Yes</td>\n",
       "      <td>NaN</td>\n",
       "      <td>2866101</td>\n",
       "    </tr>\n",
       "    <tr>\n",
       "      <th>2014-06-08</th>\n",
       "      <td>Credit card</td>\n",
       "      <td>NaN</td>\n",
       "      <td>Bankruptcy</td>\n",
       "      <td>NaN</td>\n",
       "      <td>NaN</td>\n",
       "      <td>NaN</td>\n",
       "      <td>AMERICAN EXPRESS COMPANY</td>\n",
       "      <td>ID</td>\n",
       "      <td>83854</td>\n",
       "      <td>Older American</td>\n",
       "      <td>NaN</td>\n",
       "      <td>Web</td>\n",
       "      <td>06/10/2014</td>\n",
       "      <td>Closed with explanation</td>\n",
       "      <td>Yes</td>\n",
       "      <td>Yes</td>\n",
       "      <td>885638</td>\n",
       "    </tr>\n",
       "    <tr>\n",
       "      <th>2014-09-13</th>\n",
       "      <td>Debt collection</td>\n",
       "      <td>Credit card</td>\n",
       "      <td>Communication tactics</td>\n",
       "      <td>Frequent or repeated calls</td>\n",
       "      <td>NaN</td>\n",
       "      <td>NaN</td>\n",
       "      <td>CITIBANK, N.A.</td>\n",
       "      <td>VA</td>\n",
       "      <td>23233</td>\n",
       "      <td>NaN</td>\n",
       "      <td>NaN</td>\n",
       "      <td>Web</td>\n",
       "      <td>09/13/2014</td>\n",
       "      <td>Closed with explanation</td>\n",
       "      <td>Yes</td>\n",
       "      <td>Yes</td>\n",
       "      <td>1027760</td>\n",
       "    </tr>\n",
       "  </tbody>\n",
       "</table>\n",
       "</div>"
      ],
      "text/plain": [
       "                                   Product  \\\n",
       "Date received                                \n",
       "2014-03-12                        Mortgage   \n",
       "2017-01-19                    Student loan   \n",
       "2018-04-06     Credit card or prepaid card   \n",
       "2014-06-08                     Credit card   \n",
       "2014-09-13                 Debt collection   \n",
       "\n",
       "                                              Sub-product  \\\n",
       "Date received                                               \n",
       "2014-03-12                                 Other mortgage   \n",
       "2017-01-19                 Federal student loan servicing   \n",
       "2018-04-06     General-purpose credit card or charge card   \n",
       "2014-06-08                                            NaN   \n",
       "2014-09-13                                    Credit card   \n",
       "\n",
       "                                                  Issue  \\\n",
       "Date received                                             \n",
       "2014-03-12     Loan modification,collection,foreclosure   \n",
       "2017-01-19           Dealing with my lender or servicer   \n",
       "2018-04-06           Other features, terms, or problems   \n",
       "2014-06-08                                   Bankruptcy   \n",
       "2014-09-13                        Communication tactics   \n",
       "\n",
       "                                            Sub-issue  \\\n",
       "Date received                                           \n",
       "2014-03-12                                        NaN   \n",
       "2017-01-19     Received bad information about my loan   \n",
       "2018-04-06                              Other problem   \n",
       "2014-06-08                                        NaN   \n",
       "2014-09-13                 Frequent or repeated calls   \n",
       "\n",
       "                                    Consumer complaint narrative  \\\n",
       "Date received                                                      \n",
       "2014-03-12                                                   NaN   \n",
       "2017-01-19     When my loan was switched over to Navient i wa...   \n",
       "2018-04-06     I tried to sign up for a spending monitoring p...   \n",
       "2014-06-08                                                   NaN   \n",
       "2014-09-13                                                   NaN   \n",
       "\n",
       "              Company public response                            Company  \\\n",
       "Date received                                                              \n",
       "2014-03-12                        NaN               M&T BANK CORPORATION   \n",
       "2017-01-19                        NaN            Navient Solutions, LLC.   \n",
       "2018-04-06                        NaN  CAPITAL ONE FINANCIAL CORPORATION   \n",
       "2014-06-08                        NaN           AMERICAN EXPRESS COMPANY   \n",
       "2014-09-13                        NaN                     CITIBANK, N.A.   \n",
       "\n",
       "              State ZIP code            Tags Consumer consent provided?  \\\n",
       "Date received                                                             \n",
       "2014-03-12       MI    48382             NaN                        NaN   \n",
       "2017-01-19       LA      NaN             NaN           Consent provided   \n",
       "2018-04-06       VA      NaN  Older American           Consent provided   \n",
       "2014-06-08       ID    83854  Older American                        NaN   \n",
       "2014-09-13       VA    23233             NaN                        NaN   \n",
       "\n",
       "              Submitted via Date sent to company Company response to consumer  \\\n",
       "Date received                                                                   \n",
       "2014-03-12         Referral           03/17/2014      Closed with explanation   \n",
       "2017-01-19              Web           01/19/2017      Closed with explanation   \n",
       "2018-04-06              Web           04/06/2018      Closed with explanation   \n",
       "2014-06-08              Web           06/10/2014      Closed with explanation   \n",
       "2014-09-13              Web           09/13/2014      Closed with explanation   \n",
       "\n",
       "              Timely response? Consumer disputed?  Complaint ID  \n",
       "Date received                                                    \n",
       "2014-03-12                 Yes                 No        759217  \n",
       "2017-01-19                 Yes                 No       2296496  \n",
       "2018-04-06                 Yes                NaN       2866101  \n",
       "2014-06-08                 Yes                Yes        885638  \n",
       "2014-09-13                 Yes                Yes       1027760  "
      ]
     },
     "execution_count": 3,
     "metadata": {},
     "output_type": "execute_result"
    }
   ],
   "source": [
    "data.head()"
   ]
  },
  {
   "cell_type": "code",
   "execution_count": 4,
   "metadata": {},
   "outputs": [
    {
     "name": "stdout",
     "output_type": "stream",
     "text": [
      "Number of Companies compained about: 5014\n"
     ]
    }
   ],
   "source": [
    "# Number of companies complained about\n",
    "companies = data['Company'].value_counts()\n",
    "print('Number of Companies compained about: {}'.format(len(companies)))"
   ]
  },
  {
   "cell_type": "code",
   "execution_count": 5,
   "metadata": {},
   "outputs": [
    {
     "data": {
      "image/png": "[encoded data removed]",
      "text/plain": [
       "<matplotlib.figure.Figure at 0x124bd2c50>"
      ]
     },
     "metadata": {},
     "output_type": "display_data"
    }
   ],
   "source": [
    "# Top 20 complained against companies\n",
    "top_20 = data['Company'].value_counts()[0:20]\n",
    "top_20[::-1].plot(kind='barh');"
   ]
  },
  {
   "cell_type": "markdown",
   "metadata": {},
   "source": [
    "## plot data\n",
    "\n",
    "https://www.consumer.ftc.gov/blog/2017/09/equifax-data-breach-what-do"
   ]
  },
  {
   "cell_type": "code",
   "execution_count": 14,
   "metadata": {},
   "outputs": [
    {
     "data": {
      "image/png": "[encoded data removed]",
      "text/plain": [
       "<matplotlib.figure.Figure at 0x12578fba8>"
      ]
     },
     "metadata": {},
     "output_type": "display_data"
    }
   ],
   "source": [
    "data['Company'].groupby([data.index]).agg([ 'count']).resample('W').sum().plot();"
   ]
  },
  {
   "cell_type": "code",
   "execution_count": 15,
   "metadata": {},
   "outputs": [
    {
     "data": {
      "image/png": "[encoded data removed]",
      "text/plain": [
       "<matplotlib.figure.Figure at 0x11de5d550>"
      ]
     },
     "metadata": {},
     "output_type": "display_data"
    }
   ],
   "source": [
    "data['Company'].groupby([data.index]).agg([ 'count']).plot();"
   ]
  },
  {
   "cell_type": "code",
   "execution_count": null,
   "metadata": {},
   "outputs": [],
   "source": [
    "data.resample('W').sum().plot();"
   ]
  },
  {
   "cell_type": "code",
   "execution_count": null,
   "metadata": {},
   "outputs": [],
   "source": [
    "data.resample('Y').sum().plot();"
   ]
  },
  {
   "cell_type": "code",
   "execution_count": null,
   "metadata": {},
   "outputs": [],
   "source": [
    "ax = data.resample('D').sum().rolling(365).sum().plot()\n",
    "ax.set_ylim(0,None);"
   ]
  },
  {
   "cell_type": "code",
   "execution_count": null,
   "metadata": {},
   "outputs": [],
   "source": [
    "data.groupby(data.index.time).mean().plot();"
   ]
  },
  {
   "cell_type": "code",
   "execution_count": null,
   "metadata": {},
   "outputs": [],
   "source": [
    "# This can also be done as day of week in index and different weeks for columns\n",
    "\n",
    "# this is hour in the index and days in the columns, gives the traffic flow for each hour of the day \n",
    "pivoted_table = data.pivot_table('Total', index = data.index.time, columns = data.index.date)\n",
    "pivoted_table.head()"
   ]
  },
  {
   "cell_type": "code",
   "execution_count": null,
   "metadata": {},
   "outputs": [],
   "source": [
    "pivoted_table.plot(legend = False, alpha = 0.01)"
   ]
  },
  {
   "cell_type": "markdown",
   "metadata": {},
   "source": [
    " # Refactored code"
   ]
  },
  {
   "cell_type": "code",
   "execution_count": null,
   "metadata": {
    "collapsed": true
   },
   "outputs": [],
   "source": [
    "data = get_fremont_data()\n",
    "pivoted = data.pivot_table('Total', index=data.index.time, columns=data.index.date)"
   ]
  },
  {
   "cell_type": "code",
   "execution_count": null,
   "metadata": {},
   "outputs": [],
   "source": [
    "pivoted.plot(legend=False, alpha = 0.1);"
   ]
  },
  {
   "cell_type": "code",
   "execution_count": null,
   "metadata": {},
   "outputs": [],
   "source": [
    "pivoted.T.shape\n",
    "# this yields 2097 observations for hour of the day "
   ]
  },
  {
   "cell_type": "code",
   "execution_count": null,
   "metadata": {},
   "outputs": [],
   "source": [
    "from sklearn.decomposition import PCA\n",
    "PCA(2)"
   ]
  },
  {
   "cell_type": "code",
   "execution_count": null,
   "metadata": {
    "collapsed": true
   },
   "outputs": [],
   "source": [
    "X = pivoted.fillna(0).T.values"
   ]
  },
  {
   "cell_type": "code",
   "execution_count": null,
   "metadata": {},
   "outputs": [],
   "source": [
    "X.shape"
   ]
  },
  {
   "cell_type": "code",
   "execution_count": null,
   "metadata": {
    "collapsed": true
   },
   "outputs": [],
   "source": [
    "X2 = PCA(2, svd_solver='full').fit_transform(X)"
   ]
  },
  {
   "cell_type": "code",
   "execution_count": null,
   "metadata": {},
   "outputs": [],
   "source": [
    "import sklearn\n",
    "sklearn.__version__"
   ]
  },
  {
   "cell_type": "code",
   "execution_count": null,
   "metadata": {},
   "outputs": [],
   "source": [
    "plt.scatter(X2[:, 0], X2[:, 1]);"
   ]
  },
  {
   "cell_type": "code",
   "execution_count": null,
   "metadata": {},
   "outputs": [],
   "source": [
    "from sklearn.mixture import GaussianMixture\n",
    "gmm = GaussianMixture(2)\n",
    "gmm.fit(X)\n",
    "labels = gmm.predict(X)\n",
    "labels"
   ]
  },
  {
   "cell_type": "code",
   "execution_count": null,
   "metadata": {},
   "outputs": [],
   "source": [
    "plt.scatter(X2[:, 0], X2[:, 1], c = labels, cmap='rainbow');\n",
    "plt.colorbar()"
   ]
  },
  {
   "cell_type": "code",
   "execution_count": null,
   "metadata": {},
   "outputs": [],
   "source": [
    "len(labels)"
   ]
  },
  {
   "cell_type": "code",
   "execution_count": null,
   "metadata": {},
   "outputs": [],
   "source": [
    "# filters the columns with labels of array of 0s and 1s\n",
    "pivoted.T[labels==0].T.plot(legend=False, alpha = 0.1);"
   ]
  },
  {
   "cell_type": "code",
   "execution_count": null,
   "metadata": {},
   "outputs": [],
   "source": [
    "pivoted.T[labels==1].T.plot(legend=False, alpha = 0.1);"
   ]
  },
  {
   "cell_type": "code",
   "execution_count": null,
   "metadata": {},
   "outputs": [],
   "source": [
    "# want to see what day of week these graphs represnent \n",
    "pivoted.columns"
   ]
  },
  {
   "cell_type": "code",
   "execution_count": null,
   "metadata": {},
   "outputs": [],
   "source": [
    "pd.DatetimeIndex(pivoted.columns).dayofweek"
   ]
  },
  {
   "cell_type": "code",
   "execution_count": null,
   "metadata": {
    "collapsed": true
   },
   "outputs": [],
   "source": [
    "day_of_week = pd.DatetimeIndex(pivoted.columns).dayofweek"
   ]
  },
  {
   "cell_type": "code",
   "execution_count": null,
   "metadata": {},
   "outputs": [],
   "source": [
    "plt.scatter(X2[:, 0], X2[:, 1], c = day_of_week, cmap='rainbow');\n",
    "plt.colorbar();"
   ]
  },
  {
   "cell_type": "code",
   "execution_count": null,
   "metadata": {},
   "outputs": [],
   "source": [
    "dates = pd.DatetimeIndex(pivoted.columns)\n",
    "dates[(labels == 1) & (dates.dayofweek<5)]"
   ]
  },
  {
   "cell_type": "markdown",
   "metadata": {},
   "source": [
    "# Look at blog post on this analysis as well"
   ]
  },
  {
   "cell_type": "markdown",
   "metadata": {
    "collapsed": true
   },
   "source": [
    "# Can look at days with smallest granularity and week as columns in dataframe. "
   ]
  },
  {
   "cell_type": "markdown",
   "metadata": {},
   "source": [
    "# Full PCA analysis, solving for multiples axes, up to 7 for 7 days of the week \n",
    "\n",
    "can solve for the smallest number between observations or variables "
   ]
  },
  {
   "cell_type": "code",
   "execution_count": null,
   "metadata": {
    "collapsed": true
   },
   "outputs": [],
   "source": [
    "# create PCA object\n",
    "pca= PCA()"
   ]
  },
  {
   "cell_type": "code",
   "execution_count": null,
   "metadata": {
    "collapsed": true
   },
   "outputs": [],
   "source": [
    "# need to center and scale the data \n",
    "# the data also needs to be transposed. The columns or varibales become the rows for PCA loading scores\n",
    "# only scale data if it's not on the same scale \n",
    "# https://stats.stackexchange.com/questions/105592/not-normalizing-data-before-pca-gives-better-explained-variance-ratio#105649\n",
    "scaled_data = X"
   ]
  },
  {
   "cell_type": "code",
   "execution_count": null,
   "metadata": {},
   "outputs": [],
   "source": [
    "# calculate loading scores and variation each principle compenent acount for \n",
    "pca.fit(scaled_data)"
   ]
  },
  {
   "cell_type": "code",
   "execution_count": null,
   "metadata": {
    "collapsed": true
   },
   "outputs": [],
   "source": [
    "# generate coordinates based on loading scores and scaled data\n",
    "pca_data = pca.transform(scaled_data)"
   ]
  },
  {
   "cell_type": "code",
   "execution_count": null,
   "metadata": {
    "collapsed": true
   },
   "outputs": [],
   "source": [
    "# scree plot\n",
    "# generate percentage that each PCA accounts for\n",
    "per_var = np.round(pca.explained_variance_ratio_*100, decimals=1)\n",
    "# generate labels for scree plot\n",
    "labels = ['PC' + str(num) for num in range(1, len(per_var) + 1)]"
   ]
  },
  {
   "cell_type": "code",
   "execution_count": null,
   "metadata": {},
   "outputs": [],
   "source": [
    "plt.bar(left=range(1, len(per_var) + 1), height = per_var, tick_label=labels)\n",
    "plt.show()"
   ]
  },
  {
   "cell_type": "code",
   "execution_count": null,
   "metadata": {},
   "outputs": [],
   "source": [
    "X.shape"
   ]
  },
  {
   "cell_type": "code",
   "execution_count": null,
   "metadata": {
    "collapsed": true
   },
   "outputs": [],
   "source": [
    "# generate df with pca coordinates, variables are presented as rows, thus the index should be variable names, the columns represent the different PCA axis \n",
    "pca_df = pd.DataFrame(pca_data, index = pivoted.T.index.values,columns=labels)"
   ]
  },
  {
   "cell_type": "code",
   "execution_count": null,
   "metadata": {},
   "outputs": [],
   "source": [
    "pca_df.head()"
   ]
  },
  {
   "cell_type": "code",
   "execution_count": null,
   "metadata": {},
   "outputs": [],
   "source": [
    "# plot pc1 versus pc2\n",
    "pca_df.plot(kind='scatter', x='PC1', y='PC2')\n",
    "plt.xlabel('PC1 - {}%'.format(per_var[0]))\n",
    "plt.ylabel('PC2 - {}%'.format(per_var[1]))\n",
    "\n",
    "# plot labels\n",
    "#for sample in pca_df.index:\n",
    " #   plt.annotate(sample, (pca_df['PC1'][sample]+.2,  pca_df['PC2'][sample]))"
   ]
  },
  {
   "cell_type": "code",
   "execution_count": null,
   "metadata": {},
   "outputs": [],
   "source": [
    "# let's look at the loading score for PC1 to see which ones had the largest influence on separating the two clusters along the x axis\n",
    "# series object from loading scores in PC1\n",
    "# top 10 by absolute value, capturing index \n",
    "loading_scores = pd.DataFrame(pca.components_[0], index = pivoted.index.values)\n",
    "sorted_loading_scores = loading_scores.abs().sort_values( by = [0],ascending=False)\n",
    "top_ten_genes = sorted_loading_scores[0:10].index\n",
    "loading_scores[loading_scores.index.isin(top_ten_genes)].sort_values(by=0,ascending=False)"
   ]
  },
  {
   "cell_type": "code",
   "execution_count": null,
   "metadata": {
    "collapsed": true
   },
   "outputs": [],
   "source": [
    "day_of_week = pd.DatetimeIndex(pivoted.columns).dayofweek"
   ]
  },
  {
   "cell_type": "code",
   "execution_count": null,
   "metadata": {},
   "outputs": [],
   "source": [
    "plt.scatter(pca_df['PC1'],pca_df['PC2'], c = day_of_week, cmap='rainbow');\n",
    "plt.colorbar();"
   ]
  },
  {
   "cell_type": "code",
   "execution_count": null,
   "metadata": {},
   "outputs": [],
   "source": [
    "from sklearn.mixture import GaussianMixture\n",
    "gmm = GaussianMixture(2)\n",
    "gmm.fit(scaled_data)\n",
    "labels = gmm.predict(scaled_data)\n",
    "labels"
   ]
  },
  {
   "cell_type": "code",
   "execution_count": null,
   "metadata": {},
   "outputs": [],
   "source": [
    "# filters the columns with labels of array of 0s and 1s\n",
    "pivoted.T[labels==1].T.plot(legend=False, alpha = 0.1);"
   ]
  },
  {
   "cell_type": "code",
   "execution_count": null,
   "metadata": {},
   "outputs": [],
   "source": [
    "# Isolates weekdays\n",
    "pd.Series(pd.DatetimeIndex(pivoted.T[labels==1].index).strftime('%a')).value_counts().plot(kind='bar');"
   ]
  },
  {
   "cell_type": "code",
   "execution_count": null,
   "metadata": {},
   "outputs": [],
   "source": [
    "# Sundays that behave like weekdays\n",
    "Sun_index  = pd.DatetimeIndex(pivoted.T[labels==0].index).strftime('%a')=='Sun'\n",
    "pd.DatetimeIndex(pivoted.T[labels==0].index)[Sun_index]"
   ]
  },
  {
   "cell_type": "code",
   "execution_count": null,
   "metadata": {},
   "outputs": [],
   "source": [
    "# isolate weekends\n",
    "pd.Series(pd.DatetimeIndex(pivoted.T[labels==0].index).strftime('%a')).value_counts().plot(kind='bar');"
   ]
  },
  {
   "cell_type": "code",
   "execution_count": null,
   "metadata": {
    "collapsed": true
   },
   "outputs": [],
   "source": [
    "# Solve for Tue\n",
    "Tue_index  = pd.DatetimeIndex(pivoted.T[labels==1].index).strftime('%a')=='Tue'"
   ]
  },
  {
   "cell_type": "code",
   "execution_count": null,
   "metadata": {},
   "outputs": [],
   "source": [
    "# All Tuesdays that behave like Weekends \n",
    "pd.DatetimeIndex(pivoted.T[labels==1].index)[Tue_index]"
   ]
  },
  {
   "cell_type": "markdown",
   "metadata": {},
   "source": [
    "# If days behave differently then subtract them break them out into separate analysis for predicting. "
   ]
  },
  {
   "cell_type": "code",
   "execution_count": null,
   "metadata": {
    "collapsed": true
   },
   "outputs": [],
   "source": []
  },
  {
   "cell_type": "code",
   "execution_count": null,
   "metadata": {
    "collapsed": true
   },
   "outputs": [],
   "source": []
  }
 ],
 "metadata": {
  "kernelspec": {
   "display_name": "Python 3",
   "language": "python",
   "name": "python3"
  },
  "language_info": {
   "codemirror_mode": {
    "name": "ipython",
    "version": 3
   },
   "file_extension": ".py",
   "mimetype": "text/x-python",
   "name": "python",
   "nbconvert_exporter": "python",
   "pygments_lexer": "ipython3",
   "version": "3.6.3"
  },
  "toc": {
   "nav_menu": {},
   "number_sections": true,
   "sideBar": true,
   "skip_h1_title": false,
   "toc_cell": false,
   "toc_position": {},
   "toc_section_display": "block",
   "toc_window_display": false
  }
 },
 "nbformat": 4,
 "nbformat_minor": 2
}
